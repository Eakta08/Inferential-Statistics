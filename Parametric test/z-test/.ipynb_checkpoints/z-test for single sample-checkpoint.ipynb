{
 "cells": [
  {
   "cell_type": "markdown",
   "id": "f367eb23",
   "metadata": {},
   "source": [
    "# <u>z-test for one sample"
   ]
  },
  {
   "attachments": {
    "image.png": {
     "image/png": "[encoded data removed]"
    }
   },
   "cell_type": "markdown",
   "id": "16b07eed",
   "metadata": {},
   "source": [
    "![image.png](attachment:image.png)"
   ]
  },
  {
   "attachments": {
    "image.png": {
     "image/png": "[encoded data removed]"
    }
   },
   "cell_type": "markdown",
   "id": "90b8a0e9",
   "metadata": {},
   "source": [
    "![image.png](attachment:image.png)"
   ]
  },
  {
   "cell_type": "markdown",
   "id": "617e2a7f",
   "metadata": {},
   "source": [
    "***\n",
    "**Suppose you start up a company that has developed a drug that is supposed to increase IQ.You know that the standard deviation of IQ in the general population is 15. You test your drug on 36 patients and obtain a mean IQ of 97.65. Using an alpha value of 0.05, is this IQ significantly different than the population mean of 100?**"
   ]
  },
  {
   "cell_type": "markdown",
   "id": "c35e939c",
   "metadata": {},
   "source": [
    "**`Step 1. State the hypotheses.`**\n",
    "\n",
    "<font face='Comic Sans MS'>The null hypothesis (H0): population mean IQ = 100\n",
    "\n",
    "<font face='Comic Sans MS'>The alternative hypothesis (H1): population mean IQ ≠ 100 (two-tailed test)"
   ]
  },
  {
   "cell_type": "markdown",
   "id": "ccd483f2",
   "metadata": {},
   "source": [
    "**`Step 2. Perform z-test statistics`**"
   ]
  },
  {
   "cell_type": "code",
   "execution_count": 1,
   "id": "a85c5121",
   "metadata": {},
   "outputs": [],
   "source": [
    "import numpy as np\n",
    "import matplotlib.pyplot as plt"
   ]
  },
  {
   "cell_type": "code",
   "execution_count": 2,
   "id": "d99479b8",
   "metadata": {},
   "outputs": [],
   "source": [
    "def z_test(xbar,mu,s,n):\n",
    "    z=(xbar-mu)/(s/(np.sqrt(n)))\n",
    "    return abs(z)"
   ]
  },
  {
   "cell_type": "code",
   "execution_count": 3,
   "id": "4ed59769",
   "metadata": {},
   "outputs": [],
   "source": [
    "def confidence_interval(xbar,critical_value,s,n):\n",
    "    a=xbar-((critical_value*s)/np.sqrt(n))\n",
    "    b=xbar+((critical_value*s)/np.sqrt(n))\n",
    "    return [a,b]"
   ]
  },
  {
   "cell_type": "code",
   "execution_count": 4,
   "id": "86c87609",
   "metadata": {},
   "outputs": [],
   "source": [
    "sample_mean=97.65\n",
    "population_mean=100\n",
    "population_std=15\n",
    "n=36"
   ]
  },
  {
   "cell_type": "code",
   "execution_count": 5,
   "id": "85dabc20",
   "metadata": {},
   "outputs": [
    {
     "data": {
      "text/plain": [
       "0.9399999999999977"
      ]
     },
     "execution_count": 5,
     "metadata": {},
     "output_type": "execute_result"
    }
   ],
   "source": [
    "z_test(sample_mean,population_mean,population_std,n)"
   ]
  },
  {
   "cell_type": "code",
   "execution_count": 6,
   "id": "553e7300",
   "metadata": {},
   "outputs": [],
   "source": [
    "critical_value=1.960"
   ]
  },
  {
   "cell_type": "code",
   "execution_count": 7,
   "id": "bf71a849",
   "metadata": {},
   "outputs": [
    {
     "data": {
      "text/plain": [
       "[92.75, 102.55000000000001]"
      ]
     },
     "execution_count": 7,
     "metadata": {},
     "output_type": "execute_result"
    }
   ],
   "source": [
    "confidence_interval(sample_mean,critical_value,population_std,n)"
   ]
  },
  {
   "cell_type": "markdown",
   "id": "c22fb214",
   "metadata": {},
   "source": [
    "**`Step 3. Conclusion`**\n",
    "\n",
    "<font face='Comic Sans MS'>As calculated z < critical value of z, we may accept H0 at level of significance=0.05."
   ]
  },
  {
   "cell_type": "markdown",
   "id": "3ce56c4b",
   "metadata": {},
   "source": [
    "***\n",
    "**Suppose we randomly sampled subjects from an honors program. We want to determine whether their mean IQ score differs from the general population. The general population’s IQ scores are defined as having a mean of 100 and a standard deviation of 15. Determine whether the difference between our sample mean and the hypothesized population mean of 100 is statistically significant.**\n"
   ]
  },
  {
   "cell_type": "markdown",
   "id": "0ab8cac0",
   "metadata": {},
   "source": [
    "**`Step 1. State the hypotheses.`**\n",
    "\n",
    "<font face='Comic Sans MS'>The null hypothesis (H0): hypothesized population mean = 100\n",
    "\n",
    "<font face='Comic Sans MS'>The alternative hypothesis (H1): hypothesized population mean ≠ 100 (two-tailed test)"
   ]
  },
  {
   "cell_type": "markdown",
   "id": "b6bc62c8",
   "metadata": {},
   "source": [
    "**`Step 2. Perform z-test statistics`**"
   ]
  },
  {
   "cell_type": "code",
   "execution_count": 8,
   "id": "02e5437f",
   "metadata": {},
   "outputs": [],
   "source": [
    "sample_mean=107\n",
    "population_mean=100\n",
    "population_std=15\n",
    "n=25"
   ]
  },
  {
   "cell_type": "code",
   "execution_count": 9,
   "id": "5c2827f7",
   "metadata": {},
   "outputs": [
    {
     "data": {
      "text/plain": [
       "2.3333333333333335"
      ]
     },
     "execution_count": 9,
     "metadata": {},
     "output_type": "execute_result"
    }
   ],
   "source": [
    "z_test(sample_mean,population_mean,population_std,n)"
   ]
  },
  {
   "cell_type": "code",
   "execution_count": 10,
   "id": "5459d383",
   "metadata": {},
   "outputs": [],
   "source": [
    "critical_value=1.960"
   ]
  },
  {
   "cell_type": "code",
   "execution_count": 11,
   "id": "f13d8c23",
   "metadata": {},
   "outputs": [
    {
     "data": {
      "text/plain": [
       "[101.12, 112.88]"
      ]
     },
     "execution_count": 11,
     "metadata": {},
     "output_type": "execute_result"
    }
   ],
   "source": [
    "confidence_interval(sample_mean,critical_value,population_std,n)"
   ]
  },
  {
   "cell_type": "markdown",
   "id": "122282cd",
   "metadata": {},
   "source": [
    "**`Step 3. Conclusion`**\n",
    "\n",
    "<font face='Comic Sans MS'>As calculated z > critical value of z, we may reject H0 at level of significance=0.05."
   ]
  },
  {
   "cell_type": "markdown",
   "id": "4efd0ef8",
   "metadata": {},
   "source": [
    "***\n",
    "**Is there enough evidence (at alpha=0.10) to conclude that the population mean age differs significantly from 23 based on the following sample: 25, 30, 23, 21, 24, 22, 24, 25, 22, 21, 22, 18, 20, 24, 24, 22, 23, 19, 21, 20, 21, 21, 19, 21, 19, 24, 20, 20, 20, 23, 22, 23, 19, 22, 19. Assume population standard deviation=5.**"
   ]
  },
  {
   "cell_type": "markdown",
   "id": "efed207f",
   "metadata": {},
   "source": [
    "**`Step 1. State the hypotheses.`**\n",
    "\n",
    "<font face='Comic Sans MS'>The null hypothesis (H0): hypothesized population mean age = 23\n",
    "\n",
    "<font face='Comic Sans MS'>The alternative hypothesis (H1): hypothesized population mean age ≠ 23 (two-tailed test)"
   ]
  },
  {
   "cell_type": "markdown",
   "id": "7682a697",
   "metadata": {},
   "source": [
    "**`Step 2. Perform z-test statistics`**"
   ]
  },
  {
   "cell_type": "code",
   "execution_count": 12,
   "id": "e542ad2b",
   "metadata": {},
   "outputs": [],
   "source": [
    "age=np.array([25,30,23,21,24,22,24,25,22,21,22,18,20,24,24,22,23,\n",
    "              19,21,20,21,21,19,21,19,24,20,20,20,23,22,23,19,22,19])"
   ]
  },
  {
   "cell_type": "code",
   "execution_count": 13,
   "id": "8b3a387d",
   "metadata": {},
   "outputs": [
    {
     "data": {
      "image/png": "[encoded data removed]",
      "text/plain": [
       "<Figure size 640x480 with 1 Axes>"
      ]
     },
     "metadata": {},
     "output_type": "display_data"
    }
   ],
   "source": [
    "plt.scatter(x=list(range(len(age))),y=age)\n",
    "plt.show()"
   ]
  },
  {
   "cell_type": "code",
   "execution_count": 14,
   "id": "1be8e817",
   "metadata": {},
   "outputs": [
    {
     "data": {
      "text/plain": [
       "21.8"
      ]
     },
     "execution_count": 14,
     "metadata": {},
     "output_type": "execute_result"
    }
   ],
   "source": [
    "age.mean()"
   ]
  },
  {
   "cell_type": "code",
   "execution_count": 15,
   "id": "0ef8476b",
   "metadata": {},
   "outputs": [],
   "source": [
    "sample_mean=age.mean()\n",
    "population_mean=23\n",
    "population_std=5\n",
    "n=25"
   ]
  },
  {
   "cell_type": "code",
   "execution_count": 16,
   "id": "fe1de6ae",
   "metadata": {},
   "outputs": [
    {
     "data": {
      "text/plain": [
       "1.1999999999999993"
      ]
     },
     "execution_count": 16,
     "metadata": {},
     "output_type": "execute_result"
    }
   ],
   "source": [
    "z_test(sample_mean,population_mean,population_std,n)"
   ]
  },
  {
   "cell_type": "code",
   "execution_count": 17,
   "id": "2c596c80",
   "metadata": {},
   "outputs": [],
   "source": [
    "critical_value=1.645"
   ]
  },
  {
   "cell_type": "code",
   "execution_count": 18,
   "id": "d82c6832",
   "metadata": {},
   "outputs": [
    {
     "data": {
      "text/plain": [
       "[20.155, 23.445]"
      ]
     },
     "execution_count": 18,
     "metadata": {},
     "output_type": "execute_result"
    }
   ],
   "source": [
    "confidence_interval(sample_mean,critical_value,population_std,n)"
   ]
  },
  {
   "cell_type": "markdown",
   "id": "8adc9c3c",
   "metadata": {},
   "source": [
    "**`Step 3. Conclusion`**\n",
    "\n",
    "<font face='Comic Sans MS'>As calculated z < critical value of z, we may Accept H0 at alpha=0.10."
   ]
  },
  {
   "cell_type": "code",
   "execution_count": null,
   "id": "b9d61c19",
   "metadata": {},
   "outputs": [],
   "source": []
  }
 ],
 "metadata": {
  "kernelspec": {
   "display_name": "Python 3 (ipykernel)",
   "language": "python",
   "name": "python3"
  },
  "language_info": {
   "codemirror_mode": {
    "name": "ipython",
    "version": 3
   },
   "file_extension": ".py",
   "mimetype": "text/x-python",
   "name": "python",
   "nbconvert_exporter": "python",
   "pygments_lexer": "ipython3",
   "version": "3.10.12"
  }
 },
 "nbformat": 4,
 "nbformat_minor": 5
}
