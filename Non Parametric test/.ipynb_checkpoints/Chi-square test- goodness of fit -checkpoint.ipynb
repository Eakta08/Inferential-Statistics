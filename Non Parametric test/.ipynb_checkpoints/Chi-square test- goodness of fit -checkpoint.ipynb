{
 "cells": [
  {
   "cell_type": "markdown",
   "id": "e17c76b6",
   "metadata": {},
   "source": [
    "# <u> Chi-square test- Goodness of fit\n"
   ]
  },
  {
   "attachments": {
    "image.png": {
     "image/png": "[encoded data removed]"
    }
   },
   "cell_type": "markdown",
   "id": "eefb2c61",
   "metadata": {},
   "source": [
    "![image.png](attachment:image.png)"
   ]
  },
  {
   "attachments": {
    "image.png": {
     "image/png": "[encoded data removed]"
    }
   },
   "cell_type": "markdown",
   "id": "d41f2c79",
   "metadata": {},
   "source": [
    "***\n",
    "**The following table show the distribution of digits in numbers chosen at random from a telephone directory :** \n",
    "![image.png](attachment:image.png)\n",
    "**Test whether the digits may be taken to occur equally frequently in the directory.**\n",
    "_(tabulated chi-square test at alpha=0.05 for 9 df = 16·919)_\n"
   ]
  },
  {
   "cell_type": "markdown",
   "id": "e532db0c",
   "metadata": {},
   "source": [
    "**`Step 1. State the hypotheses.`**\n",
    "\n",
    "<font face='Comic Sans MS'>Null hypothesis (H0) : the digits occur equally frequently in the directory.\n",
    "\n",
    "<font face='Comic Sans MS'>Alternative hypothesis (H1) : the digits doesn't occur equally frequently in the directory. "
   ]
  },
  {
   "cell_type": "markdown",
   "id": "f514e885",
   "metadata": {},
   "source": [
    "**`Step 2. Perform chi-square statistics`**"
   ]
  },
  {
   "cell_type": "code",
   "execution_count": 1,
   "id": "950bb645",
   "metadata": {},
   "outputs": [],
   "source": [
    "import numpy as np\n",
    "import pandas as pd"
   ]
  },
  {
   "cell_type": "code",
   "execution_count": 2,
   "id": "a0e081cf",
   "metadata": {},
   "outputs": [],
   "source": [
    "data=pd.DataFrame(\n",
    "    {\"Digits\":[0,1,2,3,4,5,6,7,8,9],\n",
    "    \"O\":[1026, 1107, 997, 966, 1075, 933, 1107, 972, 964, 853]})"
   ]
  },
  {
   "cell_type": "code",
   "execution_count": 3,
   "id": "77c453ae",
   "metadata": {},
   "outputs": [],
   "source": [
    "data.index=range(1,11)"
   ]
  },
  {
   "cell_type": "code",
   "execution_count": 4,
   "id": "41add318",
   "metadata": {},
   "outputs": [
    {
     "data": {
      "text/html": [
       "<div>\n",
       "<style scoped>\n",
       "    .dataframe tbody tr th:only-of-type {\n",
       "        vertical-align: middle;\n",
       "    }\n",
       "\n",
       "    .dataframe tbody tr th {\n",
       "        vertical-align: top;\n",
       "    }\n",
       "\n",
       "    .dataframe thead th {\n",
       "        text-align: right;\n",
       "    }\n",
       "</style>\n",
       "<table border=\"1\" class=\"dataframe\">\n",
       "  <thead>\n",
       "    <tr style=\"text-align: right;\">\n",
       "      <th></th>\n",
       "      <th>Digits</th>\n",
       "      <th>O</th>\n",
       "    </tr>\n",
       "  </thead>\n",
       "  <tbody>\n",
       "    <tr>\n",
       "      <th>1</th>\n",
       "      <td>0</td>\n",
       "      <td>1026</td>\n",
       "    </tr>\n",
       "    <tr>\n",
       "      <th>2</th>\n",
       "      <td>1</td>\n",
       "      <td>1107</td>\n",
       "    </tr>\n",
       "    <tr>\n",
       "      <th>3</th>\n",
       "      <td>2</td>\n",
       "      <td>997</td>\n",
       "    </tr>\n",
       "    <tr>\n",
       "      <th>4</th>\n",
       "      <td>3</td>\n",
       "      <td>966</td>\n",
       "    </tr>\n",
       "    <tr>\n",
       "      <th>5</th>\n",
       "      <td>4</td>\n",
       "      <td>1075</td>\n",
       "    </tr>\n",
       "    <tr>\n",
       "      <th>6</th>\n",
       "      <td>5</td>\n",
       "      <td>933</td>\n",
       "    </tr>\n",
       "    <tr>\n",
       "      <th>7</th>\n",
       "      <td>6</td>\n",
       "      <td>1107</td>\n",
       "    </tr>\n",
       "    <tr>\n",
       "      <th>8</th>\n",
       "      <td>7</td>\n",
       "      <td>972</td>\n",
       "    </tr>\n",
       "    <tr>\n",
       "      <th>9</th>\n",
       "      <td>8</td>\n",
       "      <td>964</td>\n",
       "    </tr>\n",
       "    <tr>\n",
       "      <th>10</th>\n",
       "      <td>9</td>\n",
       "      <td>853</td>\n",
       "    </tr>\n",
       "  </tbody>\n",
       "</table>\n",
       "</div>"
      ],
      "text/plain": [
       "    Digits     O\n",
       "1        0  1026\n",
       "2        1  1107\n",
       "3        2   997\n",
       "4        3   966\n",
       "5        4  1075\n",
       "6        5   933\n",
       "7        6  1107\n",
       "8        7   972\n",
       "9        8   964\n",
       "10       9   853"
      ]
     },
     "execution_count": 4,
     "metadata": {},
     "output_type": "execute_result"
    }
   ],
   "source": [
    "data"
   ]
  },
  {
   "cell_type": "code",
   "execution_count": 5,
   "id": "8a73b7f5",
   "metadata": {},
   "outputs": [],
   "source": [
    "data['E']=data[\"O\"].sum()/len(data[\"O\"])"
   ]
  },
  {
   "cell_type": "code",
   "execution_count": 6,
   "id": "cc276288",
   "metadata": {},
   "outputs": [
    {
     "data": {
      "text/html": [
       "<div>\n",
       "<style scoped>\n",
       "    .dataframe tbody tr th:only-of-type {\n",
       "        vertical-align: middle;\n",
       "    }\n",
       "\n",
       "    .dataframe tbody tr th {\n",
       "        vertical-align: top;\n",
       "    }\n",
       "\n",
       "    .dataframe thead th {\n",
       "        text-align: right;\n",
       "    }\n",
       "</style>\n",
       "<table border=\"1\" class=\"dataframe\">\n",
       "  <thead>\n",
       "    <tr style=\"text-align: right;\">\n",
       "      <th></th>\n",
       "      <th>Digits</th>\n",
       "      <th>O</th>\n",
       "      <th>E</th>\n",
       "    </tr>\n",
       "  </thead>\n",
       "  <tbody>\n",
       "    <tr>\n",
       "      <th>1</th>\n",
       "      <td>0</td>\n",
       "      <td>1026</td>\n",
       "      <td>1000.0</td>\n",
       "    </tr>\n",
       "    <tr>\n",
       "      <th>2</th>\n",
       "      <td>1</td>\n",
       "      <td>1107</td>\n",
       "      <td>1000.0</td>\n",
       "    </tr>\n",
       "    <tr>\n",
       "      <th>3</th>\n",
       "      <td>2</td>\n",
       "      <td>997</td>\n",
       "      <td>1000.0</td>\n",
       "    </tr>\n",
       "    <tr>\n",
       "      <th>4</th>\n",
       "      <td>3</td>\n",
       "      <td>966</td>\n",
       "      <td>1000.0</td>\n",
       "    </tr>\n",
       "    <tr>\n",
       "      <th>5</th>\n",
       "      <td>4</td>\n",
       "      <td>1075</td>\n",
       "      <td>1000.0</td>\n",
       "    </tr>\n",
       "    <tr>\n",
       "      <th>6</th>\n",
       "      <td>5</td>\n",
       "      <td>933</td>\n",
       "      <td>1000.0</td>\n",
       "    </tr>\n",
       "    <tr>\n",
       "      <th>7</th>\n",
       "      <td>6</td>\n",
       "      <td>1107</td>\n",
       "      <td>1000.0</td>\n",
       "    </tr>\n",
       "    <tr>\n",
       "      <th>8</th>\n",
       "      <td>7</td>\n",
       "      <td>972</td>\n",
       "      <td>1000.0</td>\n",
       "    </tr>\n",
       "    <tr>\n",
       "      <th>9</th>\n",
       "      <td>8</td>\n",
       "      <td>964</td>\n",
       "      <td>1000.0</td>\n",
       "    </tr>\n",
       "    <tr>\n",
       "      <th>10</th>\n",
       "      <td>9</td>\n",
       "      <td>853</td>\n",
       "      <td>1000.0</td>\n",
       "    </tr>\n",
       "  </tbody>\n",
       "</table>\n",
       "</div>"
      ],
      "text/plain": [
       "    Digits     O       E\n",
       "1        0  1026  1000.0\n",
       "2        1  1107  1000.0\n",
       "3        2   997  1000.0\n",
       "4        3   966  1000.0\n",
       "5        4  1075  1000.0\n",
       "6        5   933  1000.0\n",
       "7        6  1107  1000.0\n",
       "8        7   972  1000.0\n",
       "9        8   964  1000.0\n",
       "10       9   853  1000.0"
      ]
     },
     "execution_count": 6,
     "metadata": {},
     "output_type": "execute_result"
    }
   ],
   "source": [
    "data"
   ]
  },
  {
   "cell_type": "code",
   "execution_count": 7,
   "id": "794acac8",
   "metadata": {},
   "outputs": [
    {
     "data": {
      "image/png": "[encoded data removed]",
      "text/plain": [
       "<Figure size 640x480 with 1 Axes>"
      ]
     },
     "metadata": {},
     "output_type": "display_data"
    }
   ],
   "source": [
    "import matplotlib.pyplot as plt\n",
    "plt.plot(data.Digits,data.O,marker='o',color='g')\n",
    "plt.plot(data.Digits,data.E,marker='o',color='b')\n",
    "plt.legend(['Observed Frequency','Expected Frequency'])\n",
    "plt.xlabel(\"Digits\")\n",
    "plt.ylabel(\"Frequency\")\n",
    "plt.show()"
   ]
  },
  {
   "cell_type": "code",
   "execution_count": 8,
   "id": "62395e5e",
   "metadata": {},
   "outputs": [],
   "source": [
    "O=data[\"O\"]\n",
    "E=data[\"E\"]\n",
    "data[\"(O-E)\"]=O-E\n",
    "data[\"(O-E)^2\"]=(O-E)**2\n",
    "data[\"(O-E)^2/E\"]=((O-E)**2)/E"
   ]
  },
  {
   "cell_type": "code",
   "execution_count": 9,
   "id": "2e5a6eae",
   "metadata": {},
   "outputs": [
    {
     "data": {
      "text/html": [
       "<div>\n",
       "<style scoped>\n",
       "    .dataframe tbody tr th:only-of-type {\n",
       "        vertical-align: middle;\n",
       "    }\n",
       "\n",
       "    .dataframe tbody tr th {\n",
       "        vertical-align: top;\n",
       "    }\n",
       "\n",
       "    .dataframe thead th {\n",
       "        text-align: right;\n",
       "    }\n",
       "</style>\n",
       "<table border=\"1\" class=\"dataframe\">\n",
       "  <thead>\n",
       "    <tr style=\"text-align: right;\">\n",
       "      <th></th>\n",
       "      <th>Digits</th>\n",
       "      <th>O</th>\n",
       "      <th>E</th>\n",
       "      <th>(O-E)</th>\n",
       "      <th>(O-E)^2</th>\n",
       "      <th>(O-E)^2/E</th>\n",
       "    </tr>\n",
       "  </thead>\n",
       "  <tbody>\n",
       "    <tr>\n",
       "      <th>1</th>\n",
       "      <td>0</td>\n",
       "      <td>1026</td>\n",
       "      <td>1000.0</td>\n",
       "      <td>26.0</td>\n",
       "      <td>676.0</td>\n",
       "      <td>0.676</td>\n",
       "    </tr>\n",
       "    <tr>\n",
       "      <th>2</th>\n",
       "      <td>1</td>\n",
       "      <td>1107</td>\n",
       "      <td>1000.0</td>\n",
       "      <td>107.0</td>\n",
       "      <td>11449.0</td>\n",
       "      <td>11.449</td>\n",
       "    </tr>\n",
       "    <tr>\n",
       "      <th>3</th>\n",
       "      <td>2</td>\n",
       "      <td>997</td>\n",
       "      <td>1000.0</td>\n",
       "      <td>-3.0</td>\n",
       "      <td>9.0</td>\n",
       "      <td>0.009</td>\n",
       "    </tr>\n",
       "    <tr>\n",
       "      <th>4</th>\n",
       "      <td>3</td>\n",
       "      <td>966</td>\n",
       "      <td>1000.0</td>\n",
       "      <td>-34.0</td>\n",
       "      <td>1156.0</td>\n",
       "      <td>1.156</td>\n",
       "    </tr>\n",
       "    <tr>\n",
       "      <th>5</th>\n",
       "      <td>4</td>\n",
       "      <td>1075</td>\n",
       "      <td>1000.0</td>\n",
       "      <td>75.0</td>\n",
       "      <td>5625.0</td>\n",
       "      <td>5.625</td>\n",
       "    </tr>\n",
       "    <tr>\n",
       "      <th>6</th>\n",
       "      <td>5</td>\n",
       "      <td>933</td>\n",
       "      <td>1000.0</td>\n",
       "      <td>-67.0</td>\n",
       "      <td>4489.0</td>\n",
       "      <td>4.489</td>\n",
       "    </tr>\n",
       "    <tr>\n",
       "      <th>7</th>\n",
       "      <td>6</td>\n",
       "      <td>1107</td>\n",
       "      <td>1000.0</td>\n",
       "      <td>107.0</td>\n",
       "      <td>11449.0</td>\n",
       "      <td>11.449</td>\n",
       "    </tr>\n",
       "    <tr>\n",
       "      <th>8</th>\n",
       "      <td>7</td>\n",
       "      <td>972</td>\n",
       "      <td>1000.0</td>\n",
       "      <td>-28.0</td>\n",
       "      <td>784.0</td>\n",
       "      <td>0.784</td>\n",
       "    </tr>\n",
       "    <tr>\n",
       "      <th>9</th>\n",
       "      <td>8</td>\n",
       "      <td>964</td>\n",
       "      <td>1000.0</td>\n",
       "      <td>-36.0</td>\n",
       "      <td>1296.0</td>\n",
       "      <td>1.296</td>\n",
       "    </tr>\n",
       "    <tr>\n",
       "      <th>10</th>\n",
       "      <td>9</td>\n",
       "      <td>853</td>\n",
       "      <td>1000.0</td>\n",
       "      <td>-147.0</td>\n",
       "      <td>21609.0</td>\n",
       "      <td>21.609</td>\n",
       "    </tr>\n",
       "  </tbody>\n",
       "</table>\n",
       "</div>"
      ],
      "text/plain": [
       "    Digits     O       E  (O-E)  (O-E)^2  (O-E)^2/E\n",
       "1        0  1026  1000.0   26.0    676.0      0.676\n",
       "2        1  1107  1000.0  107.0  11449.0     11.449\n",
       "3        2   997  1000.0   -3.0      9.0      0.009\n",
       "4        3   966  1000.0  -34.0   1156.0      1.156\n",
       "5        4  1075  1000.0   75.0   5625.0      5.625\n",
       "6        5   933  1000.0  -67.0   4489.0      4.489\n",
       "7        6  1107  1000.0  107.0  11449.0     11.449\n",
       "8        7   972  1000.0  -28.0    784.0      0.784\n",
       "9        8   964  1000.0  -36.0   1296.0      1.296\n",
       "10       9   853  1000.0 -147.0  21609.0     21.609"
      ]
     },
     "execution_count": 9,
     "metadata": {},
     "output_type": "execute_result"
    }
   ],
   "source": [
    "data"
   ]
  },
  {
   "cell_type": "code",
   "execution_count": 10,
   "id": "3427c67b",
   "metadata": {},
   "outputs": [
    {
     "data": {
      "text/plain": [
       "58.542"
      ]
     },
     "execution_count": 10,
     "metadata": {},
     "output_type": "execute_result"
    }
   ],
   "source": [
    "chi_square_value=data[\"(O-E)^2/E\"].sum()\n",
    "chi_square_value"
   ]
  },
  {
   "cell_type": "code",
   "execution_count": 11,
   "id": "7a14a2f3",
   "metadata": {},
   "outputs": [],
   "source": [
    "critical_value=16.919"
   ]
  },
  {
   "cell_type": "markdown",
   "id": "537ea424",
   "metadata": {},
   "source": [
    "**`Step 3. Conclusion`**"
   ]
  },
  {
   "cell_type": "markdown",
   "id": "367eb107",
   "metadata": {},
   "source": [
    "<font face='Comic Sans MS'>As calculated chi-square > critical value of chi-square, we may Reject H0 at level of significance=0.05. We conclude that the digits doesn't occur equally frequently in the directory."
   ]
  },
  {
   "cell_type": "markdown",
   "id": "d4587fac",
   "metadata": {},
   "source": [
    "***\n",
    "**256 visual artists were surveyed to find out their zodiac sign. The results were: Aries (29), Taurus (24), Gemini (22), Cancer (19), Leo (21), Virgo (18), Libra (19), Scorpio (20), Sagittarius (23), Capricorn (18), Aquarius (20), Pisces (23). Test the hypothesis that zodiac signs are evenly distributed across visual artists.**\n",
    "_(The table value is 19.68 at 0.05 level of significance with 11 d.f.)_"
   ]
  },
  {
   "cell_type": "markdown",
   "id": "f229a6ee",
   "metadata": {},
   "source": [
    "**`Step 1. State the hypotheses.`**\n",
    "\n",
    "<font face='Comic Sans MS'>Null hypothesis (H0): zodiac signs are evenly distributed across visual artists.\n",
    "\n",
    "<font face='Comic Sans MS'>Alternative hypothesis (H1): zodiac signs aren't evenly distributed across visual artists."
   ]
  },
  {
   "cell_type": "markdown",
   "id": "a4fd7847",
   "metadata": {},
   "source": [
    "**`Step 2. Perform chi-square statistics`**"
   ]
  },
  {
   "cell_type": "code",
   "execution_count": 12,
   "id": "c4b11857",
   "metadata": {},
   "outputs": [],
   "source": [
    "data=pd.DataFrame({\n",
    "    \"Zodiac Signs\":[\"Aries\",\"Taurus\",\"Gemini\",\"Cancer\",\"Leo\",\"Virgo\",\n",
    "                    \"Libra\",\"Scorpio\",\"Sagittarius\",\"Capricorn\",\"Aquarius\",\"Pisces\"],\n",
    "    \"O\":[29,24,22,19,21,18,19,20,23,18,20,23]\n",
    "})"
   ]
  },
  {
   "cell_type": "code",
   "execution_count": 13,
   "id": "0f0aa2cc",
   "metadata": {},
   "outputs": [
    {
     "data": {
      "text/html": [
       "<div>\n",
       "<style scoped>\n",
       "    .dataframe tbody tr th:only-of-type {\n",
       "        vertical-align: middle;\n",
       "    }\n",
       "\n",
       "    .dataframe tbody tr th {\n",
       "        vertical-align: top;\n",
       "    }\n",
       "\n",
       "    .dataframe thead th {\n",
       "        text-align: right;\n",
       "    }\n",
       "</style>\n",
       "<table border=\"1\" class=\"dataframe\">\n",
       "  <thead>\n",
       "    <tr style=\"text-align: right;\">\n",
       "      <th></th>\n",
       "      <th>Zodiac Signs</th>\n",
       "      <th>O</th>\n",
       "    </tr>\n",
       "  </thead>\n",
       "  <tbody>\n",
       "    <tr>\n",
       "      <th>1</th>\n",
       "      <td>Aries</td>\n",
       "      <td>29</td>\n",
       "    </tr>\n",
       "    <tr>\n",
       "      <th>2</th>\n",
       "      <td>Taurus</td>\n",
       "      <td>24</td>\n",
       "    </tr>\n",
       "    <tr>\n",
       "      <th>3</th>\n",
       "      <td>Gemini</td>\n",
       "      <td>22</td>\n",
       "    </tr>\n",
       "    <tr>\n",
       "      <th>4</th>\n",
       "      <td>Cancer</td>\n",
       "      <td>19</td>\n",
       "    </tr>\n",
       "    <tr>\n",
       "      <th>5</th>\n",
       "      <td>Leo</td>\n",
       "      <td>21</td>\n",
       "    </tr>\n",
       "    <tr>\n",
       "      <th>6</th>\n",
       "      <td>Virgo</td>\n",
       "      <td>18</td>\n",
       "    </tr>\n",
       "    <tr>\n",
       "      <th>7</th>\n",
       "      <td>Libra</td>\n",
       "      <td>19</td>\n",
       "    </tr>\n",
       "    <tr>\n",
       "      <th>8</th>\n",
       "      <td>Scorpio</td>\n",
       "      <td>20</td>\n",
       "    </tr>\n",
       "    <tr>\n",
       "      <th>9</th>\n",
       "      <td>Sagittarius</td>\n",
       "      <td>23</td>\n",
       "    </tr>\n",
       "    <tr>\n",
       "      <th>10</th>\n",
       "      <td>Capricorn</td>\n",
       "      <td>18</td>\n",
       "    </tr>\n",
       "    <tr>\n",
       "      <th>11</th>\n",
       "      <td>Aquarius</td>\n",
       "      <td>20</td>\n",
       "    </tr>\n",
       "    <tr>\n",
       "      <th>12</th>\n",
       "      <td>Pisces</td>\n",
       "      <td>23</td>\n",
       "    </tr>\n",
       "  </tbody>\n",
       "</table>\n",
       "</div>"
      ],
      "text/plain": [
       "   Zodiac Signs   O\n",
       "1         Aries  29\n",
       "2        Taurus  24\n",
       "3        Gemini  22\n",
       "4        Cancer  19\n",
       "5           Leo  21\n",
       "6         Virgo  18\n",
       "7         Libra  19\n",
       "8       Scorpio  20\n",
       "9   Sagittarius  23\n",
       "10    Capricorn  18\n",
       "11     Aquarius  20\n",
       "12       Pisces  23"
      ]
     },
     "execution_count": 13,
     "metadata": {},
     "output_type": "execute_result"
    }
   ],
   "source": [
    "data.index=range(1,13)\n",
    "data"
   ]
  },
  {
   "cell_type": "code",
   "execution_count": 14,
   "id": "a75b180d",
   "metadata": {},
   "outputs": [
    {
     "data": {
      "text/html": [
       "<div>\n",
       "<style scoped>\n",
       "    .dataframe tbody tr th:only-of-type {\n",
       "        vertical-align: middle;\n",
       "    }\n",
       "\n",
       "    .dataframe tbody tr th {\n",
       "        vertical-align: top;\n",
       "    }\n",
       "\n",
       "    .dataframe thead th {\n",
       "        text-align: right;\n",
       "    }\n",
       "</style>\n",
       "<table border=\"1\" class=\"dataframe\">\n",
       "  <thead>\n",
       "    <tr style=\"text-align: right;\">\n",
       "      <th></th>\n",
       "      <th>Zodiac Signs</th>\n",
       "      <th>O</th>\n",
       "      <th>E</th>\n",
       "    </tr>\n",
       "  </thead>\n",
       "  <tbody>\n",
       "    <tr>\n",
       "      <th>1</th>\n",
       "      <td>Aries</td>\n",
       "      <td>29</td>\n",
       "      <td>21.333333</td>\n",
       "    </tr>\n",
       "    <tr>\n",
       "      <th>2</th>\n",
       "      <td>Taurus</td>\n",
       "      <td>24</td>\n",
       "      <td>21.333333</td>\n",
       "    </tr>\n",
       "    <tr>\n",
       "      <th>3</th>\n",
       "      <td>Gemini</td>\n",
       "      <td>22</td>\n",
       "      <td>21.333333</td>\n",
       "    </tr>\n",
       "    <tr>\n",
       "      <th>4</th>\n",
       "      <td>Cancer</td>\n",
       "      <td>19</td>\n",
       "      <td>21.333333</td>\n",
       "    </tr>\n",
       "    <tr>\n",
       "      <th>5</th>\n",
       "      <td>Leo</td>\n",
       "      <td>21</td>\n",
       "      <td>21.333333</td>\n",
       "    </tr>\n",
       "    <tr>\n",
       "      <th>6</th>\n",
       "      <td>Virgo</td>\n",
       "      <td>18</td>\n",
       "      <td>21.333333</td>\n",
       "    </tr>\n",
       "    <tr>\n",
       "      <th>7</th>\n",
       "      <td>Libra</td>\n",
       "      <td>19</td>\n",
       "      <td>21.333333</td>\n",
       "    </tr>\n",
       "    <tr>\n",
       "      <th>8</th>\n",
       "      <td>Scorpio</td>\n",
       "      <td>20</td>\n",
       "      <td>21.333333</td>\n",
       "    </tr>\n",
       "    <tr>\n",
       "      <th>9</th>\n",
       "      <td>Sagittarius</td>\n",
       "      <td>23</td>\n",
       "      <td>21.333333</td>\n",
       "    </tr>\n",
       "    <tr>\n",
       "      <th>10</th>\n",
       "      <td>Capricorn</td>\n",
       "      <td>18</td>\n",
       "      <td>21.333333</td>\n",
       "    </tr>\n",
       "    <tr>\n",
       "      <th>11</th>\n",
       "      <td>Aquarius</td>\n",
       "      <td>20</td>\n",
       "      <td>21.333333</td>\n",
       "    </tr>\n",
       "    <tr>\n",
       "      <th>12</th>\n",
       "      <td>Pisces</td>\n",
       "      <td>23</td>\n",
       "      <td>21.333333</td>\n",
       "    </tr>\n",
       "  </tbody>\n",
       "</table>\n",
       "</div>"
      ],
      "text/plain": [
       "   Zodiac Signs   O          E\n",
       "1         Aries  29  21.333333\n",
       "2        Taurus  24  21.333333\n",
       "3        Gemini  22  21.333333\n",
       "4        Cancer  19  21.333333\n",
       "5           Leo  21  21.333333\n",
       "6         Virgo  18  21.333333\n",
       "7         Libra  19  21.333333\n",
       "8       Scorpio  20  21.333333\n",
       "9   Sagittarius  23  21.333333\n",
       "10    Capricorn  18  21.333333\n",
       "11     Aquarius  20  21.333333\n",
       "12       Pisces  23  21.333333"
      ]
     },
     "execution_count": 14,
     "metadata": {},
     "output_type": "execute_result"
    }
   ],
   "source": [
    "data['E']=data[\"O\"].sum()/len(data[\"O\"])\n",
    "data"
   ]
  },
  {
   "cell_type": "code",
   "execution_count": 15,
   "id": "19b0112c",
   "metadata": {},
   "outputs": [
    {
     "data": {
      "image/png": "[encoded data removed]",
      "text/plain": [
       "<Figure size 640x480 with 1 Axes>"
      ]
     },
     "metadata": {},
     "output_type": "display_data"
    }
   ],
   "source": [
    "import matplotlib.pyplot as plt\n",
    "plt.plot(data[\"Zodiac Signs\"],data.O,marker='o',color='g')\n",
    "plt.plot(data[\"Zodiac Signs\"],data.E,marker='o',color='b')\n",
    "plt.legend(['Observed Frequency','Expected Frequency'])\n",
    "plt.xlabel(\"Zodiac Signs\")\n",
    "plt.ylabel(\"Frequency\")\n",
    "plt.xticks(rotation = 45)\n",
    "plt.show()"
   ]
  },
  {
   "cell_type": "code",
   "execution_count": 16,
   "id": "89d2926e",
   "metadata": {},
   "outputs": [],
   "source": [
    "O=data[\"O\"]\n",
    "E=data[\"E\"]\n",
    "data[\"(O-E)\"]=O-E\n",
    "data[\"(O-E)^2\"]=(O-E)**2\n",
    "data[\"(O-E)^2/E\"]=((O-E)**2)/E"
   ]
  },
  {
   "cell_type": "code",
   "execution_count": 17,
   "id": "693d5002",
   "metadata": {},
   "outputs": [
    {
     "data": {
      "text/html": [
       "<div>\n",
       "<style scoped>\n",
       "    .dataframe tbody tr th:only-of-type {\n",
       "        vertical-align: middle;\n",
       "    }\n",
       "\n",
       "    .dataframe tbody tr th {\n",
       "        vertical-align: top;\n",
       "    }\n",
       "\n",
       "    .dataframe thead th {\n",
       "        text-align: right;\n",
       "    }\n",
       "</style>\n",
       "<table border=\"1\" class=\"dataframe\">\n",
       "  <thead>\n",
       "    <tr style=\"text-align: right;\">\n",
       "      <th></th>\n",
       "      <th>Zodiac Signs</th>\n",
       "      <th>O</th>\n",
       "      <th>E</th>\n",
       "      <th>(O-E)</th>\n",
       "      <th>(O-E)^2</th>\n",
       "      <th>(O-E)^2/E</th>\n",
       "    </tr>\n",
       "  </thead>\n",
       "  <tbody>\n",
       "    <tr>\n",
       "      <th>1</th>\n",
       "      <td>Aries</td>\n",
       "      <td>29</td>\n",
       "      <td>21.333333</td>\n",
       "      <td>7.666667</td>\n",
       "      <td>58.777778</td>\n",
       "      <td>2.755208</td>\n",
       "    </tr>\n",
       "    <tr>\n",
       "      <th>2</th>\n",
       "      <td>Taurus</td>\n",
       "      <td>24</td>\n",
       "      <td>21.333333</td>\n",
       "      <td>2.666667</td>\n",
       "      <td>7.111111</td>\n",
       "      <td>0.333333</td>\n",
       "    </tr>\n",
       "    <tr>\n",
       "      <th>3</th>\n",
       "      <td>Gemini</td>\n",
       "      <td>22</td>\n",
       "      <td>21.333333</td>\n",
       "      <td>0.666667</td>\n",
       "      <td>0.444444</td>\n",
       "      <td>0.020833</td>\n",
       "    </tr>\n",
       "    <tr>\n",
       "      <th>4</th>\n",
       "      <td>Cancer</td>\n",
       "      <td>19</td>\n",
       "      <td>21.333333</td>\n",
       "      <td>-2.333333</td>\n",
       "      <td>5.444444</td>\n",
       "      <td>0.255208</td>\n",
       "    </tr>\n",
       "    <tr>\n",
       "      <th>5</th>\n",
       "      <td>Leo</td>\n",
       "      <td>21</td>\n",
       "      <td>21.333333</td>\n",
       "      <td>-0.333333</td>\n",
       "      <td>0.111111</td>\n",
       "      <td>0.005208</td>\n",
       "    </tr>\n",
       "    <tr>\n",
       "      <th>6</th>\n",
       "      <td>Virgo</td>\n",
       "      <td>18</td>\n",
       "      <td>21.333333</td>\n",
       "      <td>-3.333333</td>\n",
       "      <td>11.111111</td>\n",
       "      <td>0.520833</td>\n",
       "    </tr>\n",
       "    <tr>\n",
       "      <th>7</th>\n",
       "      <td>Libra</td>\n",
       "      <td>19</td>\n",
       "      <td>21.333333</td>\n",
       "      <td>-2.333333</td>\n",
       "      <td>5.444444</td>\n",
       "      <td>0.255208</td>\n",
       "    </tr>\n",
       "    <tr>\n",
       "      <th>8</th>\n",
       "      <td>Scorpio</td>\n",
       "      <td>20</td>\n",
       "      <td>21.333333</td>\n",
       "      <td>-1.333333</td>\n",
       "      <td>1.777778</td>\n",
       "      <td>0.083333</td>\n",
       "    </tr>\n",
       "    <tr>\n",
       "      <th>9</th>\n",
       "      <td>Sagittarius</td>\n",
       "      <td>23</td>\n",
       "      <td>21.333333</td>\n",
       "      <td>1.666667</td>\n",
       "      <td>2.777778</td>\n",
       "      <td>0.130208</td>\n",
       "    </tr>\n",
       "    <tr>\n",
       "      <th>10</th>\n",
       "      <td>Capricorn</td>\n",
       "      <td>18</td>\n",
       "      <td>21.333333</td>\n",
       "      <td>-3.333333</td>\n",
       "      <td>11.111111</td>\n",
       "      <td>0.520833</td>\n",
       "    </tr>\n",
       "    <tr>\n",
       "      <th>11</th>\n",
       "      <td>Aquarius</td>\n",
       "      <td>20</td>\n",
       "      <td>21.333333</td>\n",
       "      <td>-1.333333</td>\n",
       "      <td>1.777778</td>\n",
       "      <td>0.083333</td>\n",
       "    </tr>\n",
       "    <tr>\n",
       "      <th>12</th>\n",
       "      <td>Pisces</td>\n",
       "      <td>23</td>\n",
       "      <td>21.333333</td>\n",
       "      <td>1.666667</td>\n",
       "      <td>2.777778</td>\n",
       "      <td>0.130208</td>\n",
       "    </tr>\n",
       "  </tbody>\n",
       "</table>\n",
       "</div>"
      ],
      "text/plain": [
       "   Zodiac Signs   O          E     (O-E)    (O-E)^2  (O-E)^2/E\n",
       "1         Aries  29  21.333333  7.666667  58.777778   2.755208\n",
       "2        Taurus  24  21.333333  2.666667   7.111111   0.333333\n",
       "3        Gemini  22  21.333333  0.666667   0.444444   0.020833\n",
       "4        Cancer  19  21.333333 -2.333333   5.444444   0.255208\n",
       "5           Leo  21  21.333333 -0.333333   0.111111   0.005208\n",
       "6         Virgo  18  21.333333 -3.333333  11.111111   0.520833\n",
       "7         Libra  19  21.333333 -2.333333   5.444444   0.255208\n",
       "8       Scorpio  20  21.333333 -1.333333   1.777778   0.083333\n",
       "9   Sagittarius  23  21.333333  1.666667   2.777778   0.130208\n",
       "10    Capricorn  18  21.333333 -3.333333  11.111111   0.520833\n",
       "11     Aquarius  20  21.333333 -1.333333   1.777778   0.083333\n",
       "12       Pisces  23  21.333333  1.666667   2.777778   0.130208"
      ]
     },
     "execution_count": 17,
     "metadata": {},
     "output_type": "execute_result"
    }
   ],
   "source": [
    "data"
   ]
  },
  {
   "cell_type": "code",
   "execution_count": 18,
   "id": "d892061f",
   "metadata": {},
   "outputs": [
    {
     "data": {
      "text/plain": [
       "5.093750000000001"
      ]
     },
     "execution_count": 18,
     "metadata": {},
     "output_type": "execute_result"
    }
   ],
   "source": [
    "chi_square_value=data[\"(O-E)^2/E\"].sum()\n",
    "chi_square_value"
   ]
  },
  {
   "cell_type": "code",
   "execution_count": 19,
   "id": "d9ce3c5d",
   "metadata": {},
   "outputs": [],
   "source": [
    "critical_value=19.68"
   ]
  },
  {
   "cell_type": "markdown",
   "id": "87e673fe",
   "metadata": {},
   "source": [
    "**`Step 3. Conclusion`**"
   ]
  },
  {
   "cell_type": "markdown",
   "id": "ea9ffd5c",
   "metadata": {},
   "source": [
    "<font face='Comic Sans MS'>As calculated chi-square < critical value of chi-square, we may Accept H0 at level of significance=0.05. We conclude that zodiac signs are evenly distributed across visual artists."
   ]
  }
 ],
 "metadata": {
  "kernelspec": {
   "display_name": "Python 3 (ipykernel)",
   "language": "python",
   "name": "python3"
  },
  "language_info": {
   "codemirror_mode": {
    "name": "ipython",
    "version": 3
   },
   "file_extension": ".py",
   "mimetype": "text/x-python",
   "name": "python",
   "nbconvert_exporter": "python",
   "pygments_lexer": "ipython3",
   "version": "3.10.12"
  }
 },
 "nbformat": 4,
 "nbformat_minor": 5
}
